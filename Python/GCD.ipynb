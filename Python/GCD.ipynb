{
 "cells": [
  {
   "cell_type": "code",
   "execution_count": 5,
   "metadata": {},
   "outputs": [
    {
     "name": "stdout",
     "output_type": "stream",
     "text": [
      "1107\n",
      "15129\n",
      "The gcd of 1107 and 15129 is 369.\n"
     ]
    }
   ],
   "source": [
    "x = int( input () )\n",
    "y = int( input () )\n",
    "\n",
    "if x < y:\n",
    "    z = x//2\n",
    "else:\n",
    "    z = y//2\n",
    "\n",
    "for i in range (z) :\n",
    "    a = z - i\n",
    "    if x % a == y % a == 0:\n",
    "        print (\"The gcd of \" + str(x) + \" and \" + str(y) + \" is \" + str(a) + \".\")\n",
    "        break"
   ]
  },
  {
   "cell_type": "code",
   "execution_count": null,
   "metadata": {},
   "outputs": [],
   "source": []
  }
 ],
 "metadata": {
  "kernelspec": {
   "display_name": "Python 3",
   "language": "python",
   "name": "python3"
  },
  "language_info": {
   "codemirror_mode": {
    "name": "ipython",
    "version": 3
   },
   "file_extension": ".py",
   "mimetype": "text/x-python",
   "name": "python",
   "nbconvert_exporter": "python",
   "pygments_lexer": "ipython3",
   "version": "3.7.1"
  }
 },
 "nbformat": 4,
 "nbformat_minor": 2
}
