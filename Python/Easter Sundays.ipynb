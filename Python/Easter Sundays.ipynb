{
 "cells": [
  {
   "cell_type": "code",
   "execution_count": null,
   "metadata": {},
   "outputs": [],
   "source": [
    "y = int(input())\n",
    "k = y // 100\n",
    "x = y % 19\n",
    "b = y % 4\n",
    "c = y % 7\n",
    "q = k // 4\n",
    "p = (13 + 8 * k) // 25\n",
    "Y = (15 - p + k - q)  %  30\n",
    "z = (19 * x + Y)  %  30\n",
    "n = (4 + k - q)  %  7\n",
    "e = (2 * b + 4 * c + 6 * z + n)  % 7\n",
    "if z+e <= 9:\n",
    "    D = 22 + z + e\n",
    "    M = 3\n",
    "elif z==29 and e==6:\n",
    "    D = 19\n",
    "    M = 4\n",
    "elif z==28 and e==6 and x>10:\n",
    "    D = 18\n",
    "    M = 4\n",
    "else:\n",
    "    D = z + e - 9 \n",
    "    M = 4\n",
    "    \n",
    "print(str(D) + \"/\" + str(M))"
   ]
  },
  {
   "cell_type": "code",
   "execution_count": null,
   "metadata": {},
   "outputs": [],
   "source": []
  }
 ],
 "metadata": {
  "kernelspec": {
   "display_name": "Python 3",
   "language": "python",
   "name": "python3"
  },
  "language_info": {
   "codemirror_mode": {
    "name": "ipython",
    "version": 3
   },
   "file_extension": ".py",
   "mimetype": "text/x-python",
   "name": "python",
   "nbconvert_exporter": "python",
   "pygments_lexer": "ipython3",
   "version": "3.7.1"
  }
 },
 "nbformat": 4,
 "nbformat_minor": 2
}
