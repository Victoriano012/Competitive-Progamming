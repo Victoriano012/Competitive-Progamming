{
 "cells": [
  {
   "cell_type": "code",
   "execution_count": null,
   "metadata": {},
   "outputs": [],
   "source": [
    "x = int(input())\n",
    "i = 0\n",
    "\n",
    "while True:\n",
    "    i += 1\n",
    "    if x == 10**i:\n",
    "        print(\"The number of digits of \" + str(x) + \" is \" + str(i+1))\n",
    "        break\n",
    "    elif x % 10**i == 0:\n",
    "        print(\"The number of digits of \" + str(x) + \" is \" + str(i))\n",
    "        break"
   ]
  }
 ],
 "metadata": {
  "kernelspec": {
   "display_name": "Python 3",
   "language": "python",
   "name": "python3"
  },
  "language_info": {
   "codemirror_mode": {
    "name": "ipython",
    "version": 3
   },
   "file_extension": ".py",
   "mimetype": "text/x-python",
   "name": "python",
   "nbconvert_exporter": "python",
   "pygments_lexer": "ipython3",
   "version": "3.7.1"
  }
 },
 "nbformat": 4,
 "nbformat_minor": 2
}
