{
 "cells": [
  {
   "cell_type": "code",
   "execution_count": null,
   "metadata": {},
   "outputs": [],
   "source": [
    "while True:\n",
    "    try:\n",
    "        a = input().split(\" \")\n",
    "    except:\n",
    "        break\n",
    "\n",
    "    c = 0\n",
    "    t = []\n",
    "\n",
    "    for x in range(len(a)):\n",
    "        a[x] = int(a[x])\n",
    "\n",
    "    n = a[2]\n",
    "\n",
    "    while True:\n",
    "\n",
    "        if n % 2 == 0:\n",
    "            n = n//2 + a[0]\n",
    "\n",
    "        else:\n",
    "            n = 3*n + a[1]\n",
    "\n",
    "        c += 1\n",
    "\n",
    "        t.append(n)\n",
    "\n",
    "        if n > 10**6:\n",
    "            print(n)\n",
    "            break\n",
    "\n",
    "        if t.index(n) != len(t) - 1:\n",
    "            print(len(t) - t.index(n) - 1)\n",
    "            break\n"
   ]
  },
  {
   "cell_type": "code",
   "execution_count": null,
   "metadata": {},
   "outputs": [],
   "source": []
  },
  {
   "cell_type": "code",
   "execution_count": null,
   "metadata": {},
   "outputs": [],
   "source": []
  }
 ],
 "metadata": {
  "kernelspec": {
   "display_name": "Python 3",
   "language": "python",
   "name": "python3"
  },
  "language_info": {
   "codemirror_mode": {
    "name": "ipython",
    "version": 3
   },
   "file_extension": ".py",
   "mimetype": "text/x-python",
   "name": "python",
   "nbconvert_exporter": "python",
   "pygments_lexer": "ipython3",
   "version": "3.7.1"
  }
 },
 "nbformat": 4,
 "nbformat_minor": 2
}
