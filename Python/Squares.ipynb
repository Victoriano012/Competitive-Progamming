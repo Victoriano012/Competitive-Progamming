{
 "cells": [
  {
   "cell_type": "code",
   "execution_count": null,
   "metadata": {},
   "outputs": [],
   "source": [
    "a = 0\n",
    "b = 0\n",
    "\n",
    "while True:\n",
    "\n",
    "    try:\n",
    "        a = int(input())\n",
    "    except:\n",
    "        break\n",
    "\n",
    "    if b > 0:\n",
    "        print()\n",
    "\n",
    "    for x in range(a):\n",
    "        print(str(a)*a)\n",
    "\n",
    "    b += 1\n"
   ]
  },
  {
   "cell_type": "code",
   "execution_count": null,
   "metadata": {},
   "outputs": [],
   "source": [
    "a = 0\n",
    "b = 0\n",
    "\n",
    "while True:\n",
    "\n",
    "    try:\n",
    "        a = int(input())\n",
    "    except:\n",
    "        break\n",
    "\n",
    "    if b > 0:\n",
    "        print()\n",
    "\n",
    "    c = 0\n",
    "    \n",
    "    for x in range(a):\n",
    "        d = \"\"\n",
    "\n",
    "        for e in range(a):\n",
    "            d += str((c + e)%10)\n",
    "        print(d)\n",
    "\n",
    "        c += a\n",
    "\n",
    "    b += 1\n"
   ]
  },
  {
   "cell_type": "code",
   "execution_count": null,
   "metadata": {},
   "outputs": [],
   "source": [
    "a = 0\n",
    "b = 0\n",
    "c = 0\n",
    "\n",
    "while True:\n",
    "\n",
    "    try:\n",
    "        a = int(input())\n",
    "    except:\n",
    "        break\n",
    "\n",
    "    if b > 0:\n",
    "        print()\n",
    "\n",
    "    for x in range(a):\n",
    "        d = \"\"\n",
    "\n",
    "        for e in range(a):\n",
    "            d += str((c + e)%10)\n",
    "        print(d)\n",
    "\n",
    "        c += a\n",
    "\n",
    "    b += 1\n"
   ]
  },
  {
   "cell_type": "code",
   "execution_count": null,
   "metadata": {},
   "outputs": [],
   "source": [
    "a = int(input())\n",
    "b = 0\n",
    "\n",
    "for x in range(a):\n",
    "\n",
    "    c = 0\n",
    "\n",
    "    if b > 0:\n",
    "        print()\n",
    "\n",
    "    for x in range(a):\n",
    "        d = \"\"\n",
    "\n",
    "        for e in range(a):\n",
    "            d += str((c + e)%10)\n",
    "        print(d)\n",
    "\n",
    "        c += a\n",
    "\n",
    "    b += 1\n"
   ]
  },
  {
   "cell_type": "code",
   "execution_count": null,
   "metadata": {},
   "outputs": [],
   "source": []
  }
 ],
 "metadata": {
  "kernelspec": {
   "display_name": "Python 3",
   "language": "python",
   "name": "python3"
  },
  "language_info": {
   "codemirror_mode": {
    "name": "ipython",
    "version": 3
   },
   "file_extension": ".py",
   "mimetype": "text/x-python",
   "name": "python",
   "nbconvert_exporter": "python",
   "pygments_lexer": "ipython3",
   "version": "3.7.1"
  }
 },
 "nbformat": 4,
 "nbformat_minor": 2
}
