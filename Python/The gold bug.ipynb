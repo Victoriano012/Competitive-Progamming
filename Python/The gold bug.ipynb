{
 "cells": [
  {
   "cell_type": "code",
   "execution_count": 4,
   "metadata": {},
   "outputs": [
    {
     "name": "stdout",
     "output_type": "stream",
     "text": [
      "52-!813467/09*+.[();?`]<:>\n",
      "6\n",
      "5_3++!_305))_6*_;48_26)4+.)_4+);80_6*_;48_!8`60)_)85;\n"
     ]
    },
    {
     "ename": "TypeError",
     "evalue": "'str' object does not support item assignment",
     "output_type": "error",
     "traceback": [
      "\u001b[1;31m---------------------------------------------------------------------------\u001b[0m",
      "\u001b[1;31mTypeError\u001b[0m                                 Traceback (most recent call last)",
      "\u001b[1;32m<ipython-input-4-4213a224d94f>\u001b[0m in \u001b[0;36m<module>\u001b[1;34m\u001b[0m\n\u001b[0;32m     37\u001b[0m             \u001b[1;32mfor\u001b[0m \u001b[0mll\u001b[0m \u001b[1;32min\u001b[0m \u001b[0mrange\u001b[0m\u001b[1;33m(\u001b[0m\u001b[0mlen\u001b[0m\u001b[1;33m(\u001b[0m\u001b[0mpar\u001b[0m\u001b[1;33m)\u001b[0m\u001b[1;33m)\u001b[0m\u001b[1;33m:\u001b[0m\u001b[1;33m\u001b[0m\u001b[1;33m\u001b[0m\u001b[0m\n\u001b[0;32m     38\u001b[0m                 \u001b[1;32mif\u001b[0m \u001b[0mpar\u001b[0m\u001b[1;33m[\u001b[0m\u001b[0mll\u001b[0m\u001b[1;33m]\u001b[0m \u001b[1;33m==\u001b[0m \u001b[0ma\u001b[0m\u001b[1;33m:\u001b[0m\u001b[1;33m\u001b[0m\u001b[1;33m\u001b[0m\u001b[0m\n\u001b[1;32m---> 39\u001b[1;33m                     \u001b[0mpar\u001b[0m\u001b[1;33m[\u001b[0m\u001b[0mll\u001b[0m\u001b[1;33m]\u001b[0m \u001b[1;33m=\u001b[0m \u001b[1;34m\"a\"\u001b[0m\u001b[1;33m\u001b[0m\u001b[1;33m\u001b[0m\u001b[0m\n\u001b[0m\u001b[0;32m     40\u001b[0m                 \u001b[1;32melif\u001b[0m \u001b[0mpar\u001b[0m\u001b[1;33m[\u001b[0m\u001b[0mll\u001b[0m\u001b[1;33m]\u001b[0m \u001b[1;33m==\u001b[0m \u001b[0mb\u001b[0m\u001b[1;33m:\u001b[0m\u001b[1;33m\u001b[0m\u001b[1;33m\u001b[0m\u001b[0m\n\u001b[0;32m     41\u001b[0m                     \u001b[0mpar\u001b[0m\u001b[1;33m[\u001b[0m\u001b[0mll\u001b[0m\u001b[1;33m]\u001b[0m \u001b[1;33m=\u001b[0m \u001b[1;34m\"b\"\u001b[0m\u001b[1;33m\u001b[0m\u001b[1;33m\u001b[0m\u001b[0m\n",
      "\u001b[1;31mTypeError\u001b[0m: 'str' object does not support item assignment"
     ]
    }
   ],
   "source": [
    "while True:\n",
    "    \n",
    "        dic = input()\n",
    "        a = dic[0]\n",
    "        b = dic[1]\n",
    "        c = dic[2]\n",
    "        d = dic[3]\n",
    "        e = dic[4]\n",
    "        f = dic[5]\n",
    "        g = dic[6]\n",
    "        h = dic[7]\n",
    "        i = dic[8]\n",
    "        j = dic[9]\n",
    "        k = dic[10]\n",
    "        l = dic[11]\n",
    "        m = dic[12]\n",
    "        n = dic[13]\n",
    "        o = dic[14]\n",
    "        p = dic[15]\n",
    "        q = dic[16]\n",
    "        r = dic[17]\n",
    "        s = dic[18]\n",
    "        t = dic[19]\n",
    "        u = dic[20]\n",
    "        v = dic[21]\n",
    "        w = dic[22]\n",
    "        x = dic[23]\n",
    "        y = dic[24]\n",
    "        z = dic[25]\n",
    "\n",
    "        num = int(input())\n",
    "\n",
    "        for veg in range(num):\n",
    "\n",
    "            par = input()\n",
    "\n",
    "            for ll in range(len(par)):\n",
    "                if par[ll] == a:\n",
    "                    par[ll] = \"a\"\n",
    "                elif par[ll] == b:\n",
    "                    par[ll] = \"b\"\n",
    "                elif par[ll] == c:\n",
    "                    par[ll] = \"c\"\n",
    "                elif par[ll] == d:\n",
    "                    par[ll] = \"d\"\n",
    "                elif par[ll] == e:\n",
    "                    par[ll] = \"e\"\n",
    "                elif par[ll] == f:\n",
    "                    par[ll] = \"f\"\n",
    "                elif par[ll] == g:\n",
    "                    par[ll] = \"g\"\n",
    "                elif par[ll] == h:\n",
    "                    par[ll] = \"h\"\n",
    "                elif par[ll] == i:\n",
    "                    par[ll] = \"i\"\n",
    "                elif par[ll] == j:\n",
    "                    par[ll] = \"j\"\n",
    "                elif par[ll] == k:\n",
    "                    par[ll] = \"k\"\n",
    "                elif par[ll] == l:\n",
    "                    par[ll] = \"l\"\n",
    "                elif par[ll] == m:\n",
    "                    par[ll] = \"m\"\n",
    "                elif par[ll] == n:\n",
    "                    par[ll] = \"n\"\n",
    "                elif par[ll] == o:\n",
    "                    par[ll] = \"o\"\n",
    "                elif par[ll] == p:\n",
    "                    par[ll] = \"p\"\n",
    "                elif par[ll] == q:\n",
    "                    par[ll] = \"q\"\n",
    "                elif par[ll] == r:\n",
    "                    par[ll] = \"r\"\n",
    "                elif par[ll] == s:\n",
    "                    par[ll] = \"s\"\n",
    "                elif par[ll] == t:\n",
    "                    par[ll] = \"t\"\n",
    "                elif par[ll] == u:\n",
    "                    par[ll] = \"u\"\n",
    "                elif par[ll] == v:\n",
    "                    par[ll] = \"v\"\n",
    "                elif par[ll] == w:\n",
    "                    par[ll] = \"w\"\n",
    "                elif par[ll] == x:\n",
    "                    par[ll] = \"x\"\n",
    "                elif par[ll] == y:\n",
    "                    par[ll] = \"y\"\n",
    "                elif par[ll] == z:\n",
    "                    par[ll] = \"z\"\n",
    "                    \n",
    "            print(par)\n"
   ]
  },
  {
   "cell_type": "code",
   "execution_count": null,
   "metadata": {},
   "outputs": [],
   "source": []
  },
  {
   "cell_type": "code",
   "execution_count": null,
   "metadata": {},
   "outputs": [],
   "source": []
  }
 ],
 "metadata": {
  "kernelspec": {
   "display_name": "Python 3",
   "language": "python",
   "name": "python3"
  },
  "language_info": {
   "codemirror_mode": {
    "name": "ipython",
    "version": 3
   },
   "file_extension": ".py",
   "mimetype": "text/x-python",
   "name": "python",
   "nbconvert_exporter": "python",
   "pygments_lexer": "ipython3",
   "version": "3.7.1"
  }
 },
 "nbformat": 4,
 "nbformat_minor": 2
}
