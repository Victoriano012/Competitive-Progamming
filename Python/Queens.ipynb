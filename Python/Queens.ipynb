{
 "cells": [
  {
   "cell_type": "code",
   "execution_count": 14,
   "metadata": {},
   "outputs": [
    {
     "name": "stdout",
     "output_type": "stream",
     "text": [
      "12\n",
      "14200\n"
     ]
    }
   ],
   "source": [
    "#Queens(1)\n",
    "\n",
    "n = int(input())\n",
    "columns = list(range(n))\n",
    "count = 0\n",
    "resta = list(map(lambda x:x-n+1, range(2*n - 1)))\n",
    "suma = list(range(2*n - 1))\n",
    "\n",
    "def fill(row):\n",
    "    if row == n:\n",
    "        global count\n",
    "        count += 1\n",
    "        return\n",
    "    for x in columns[::-1]:\n",
    "        if(x+row in suma and row-x in resta):\n",
    "            suma.remove(x+row)\n",
    "            resta.remove(row-x)\n",
    "            columns.remove(x)\n",
    "            fill(row + 1)\n",
    "            columns.append(x)\n",
    "            resta.append(row-x)\n",
    "            suma.append(x+row)\n",
    "\n",
    "fill(0)\n",
    "print(count)"
   ]
  },
  {
   "cell_type": "code",
   "execution_count": null,
   "metadata": {},
   "outputs": [],
   "source": []
  }
 ],
 "metadata": {
  "kernelspec": {
   "display_name": "Python 3",
   "language": "python",
   "name": "python3"
  },
  "language_info": {
   "codemirror_mode": {
    "name": "ipython",
    "version": 3
   },
   "file_extension": ".py",
   "mimetype": "text/x-python",
   "name": "python",
   "nbconvert_exporter": "python",
   "pygments_lexer": "ipython3",
   "version": "3.7.1"
  }
 },
 "nbformat": 4,
 "nbformat_minor": 2
}
