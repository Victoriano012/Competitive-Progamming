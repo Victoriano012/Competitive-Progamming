{
 "cells": [
  {
   "cell_type": "code",
   "execution_count": null,
   "metadata": {
    "scrolled": true
   },
   "outputs": [],
   "source": [
    "n = input().split(\" \")\n",
    "a = []\n",
    "\n",
    "for x in range(int(n[0])):\n",
    "\n",
    "    a.append(input().split(\" \"))\n",
    "\n",
    "input()\n",
    "\n",
    "while True:\n",
    "\n",
    "    d = input().split(\" \")\n",
    "    \n",
    "    if d == ['']:\n",
    "\n",
    "        break\n",
    "\n",
    "    if d[0] == \"column\":\n",
    "\n",
    "        b = []\n",
    "\n",
    "        for x in range(int(n[0])):\n",
    "\n",
    "            b.append(a[x][int(d[1]) - 1])\n",
    "\n",
    "        b = \" \".join(d) + \": \" + \" \".join(b)\n",
    "    \n",
    "        print(b)\n",
    "\n",
    "    elif d[0] == \"row\":\n",
    "\n",
    "        b = \" \".join(d) + \": \" + \" \".join(a[int(d[1]) - 1])\n",
    "    \n",
    "        print(b)\n",
    "\n",
    "    elif d[0] == \"element\":\n",
    "\n",
    "        b = \" \".join(d) + \": \" + a[int(d[1]) - 1][int(d[2]) - 1]\n",
    "\n",
    "        print(b)\n"
   ]
  },
  {
   "cell_type": "code",
   "execution_count": null,
   "metadata": {},
   "outputs": [],
   "source": []
  }
 ],
 "metadata": {
  "kernelspec": {
   "display_name": "Python 3",
   "language": "python",
   "name": "python3"
  },
  "language_info": {
   "codemirror_mode": {
    "name": "ipython",
    "version": 3
   },
   "file_extension": ".py",
   "mimetype": "text/x-python",
   "name": "python",
   "nbconvert_exporter": "python",
   "pygments_lexer": "ipython3",
   "version": "3.7.1"
  }
 },
 "nbformat": 4,
 "nbformat_minor": 2
}
